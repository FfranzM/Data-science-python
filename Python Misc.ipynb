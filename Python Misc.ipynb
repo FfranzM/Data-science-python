{
 "cells": [
  {
   "cell_type": "markdown",
   "metadata": {
    "collapsed": false
   },
   "source": [
    "## Python Generales"
   ]
  },
  {
   "cell_type": "markdown",
   "metadata": {},
   "source": [
    "## Expresiones Matemáticas"
   ]
  },
  {
   "cell_type": "markdown",
   "metadata": {},
   "source": [
    "$y={\\frac{x}{2\\pi}}$"
   ]
  },
  {
   "cell_type": "markdown",
   "metadata": {
    "collapsed": true
   },
   "source": [
    "## Errores semánticos"
   ]
  },
  {
   "cell_type": "code",
   "execution_count": 1,
   "metadata": {
    "collapsed": false
   },
   "outputs": [
    {
     "name": "stdout",
     "output_type": "stream",
     "text": [
      "0.3183098861837907\n"
     ]
    }
   ],
   "source": [
    "import math\n",
    "x=2.0\n",
    "y=x/(2*math.pi)\n",
    "print (y)\n",
    "# Es correcto?"
   ]
  },
  {
   "cell_type": "markdown",
   "metadata": {},
   "source": [
    "## Tokens en python"
   ]
  },
  {
   "cell_type": "markdown",
   "metadata": {},
   "source": [
    "* Identificadores"
   ]
  },
  {
   "cell_type": "code",
   "execution_count": 2,
   "metadata": {
    "collapsed": false
   },
   "outputs": [
    {
     "data": {
      "text/plain": [
       "int"
      ]
     },
     "execution_count": 2,
     "metadata": {},
     "output_type": "execute_result"
    }
   ],
   "source": [
    "hora=2\n",
    "type(hora)"
   ]
  },
  {
   "cell_type": "markdown",
   "metadata": {},
   "source": [
    "* Operadores"
   ]
  },
  {
   "cell_type": "code",
   "execution_count": 3,
   "metadata": {
    "collapsed": true
   },
   "outputs": [],
   "source": [
    "segundos=hora*60*60"
   ]
  },
  {
   "cell_type": "code",
   "execution_count": 4,
   "metadata": {
    "collapsed": true
   },
   "outputs": [],
   "source": [
    "minutos=segundos/60"
   ]
  },
  {
   "cell_type": "markdown",
   "metadata": {},
   "source": [
    "* Delimitadores"
   ]
  },
  {
   "cell_type": "code",
   "execution_count": 5,
   "metadata": {
    "collapsed": false
   },
   "outputs": [
    {
     "data": {
      "text/plain": [
       "10"
      ]
     },
     "execution_count": 5,
     "metadata": {},
     "output_type": "execute_result"
    }
   ],
   "source": [
    "10*(5-4)"
   ]
  },
  {
   "cell_type": "markdown",
   "metadata": {},
   "source": [
    "* Literales"
   ]
  },
  {
   "cell_type": "code",
   "execution_count": 6,
   "metadata": {
    "collapsed": false
   },
   "outputs": [],
   "source": [
    "x=10j"
   ]
  },
  {
   "cell_type": "markdown",
   "metadata": {},
   "source": [
    "* Comentarios"
   ]
  },
  {
   "cell_type": "code",
   "execution_count": 7,
   "metadata": {
    "collapsed": true
   },
   "outputs": [],
   "source": [
    "# Hola mundo"
   ]
  },
  {
   "cell_type": "code",
   "execution_count": 8,
   "metadata": {
    "collapsed": true
   },
   "outputs": [],
   "source": [
    "hora=minutos/60 # de minutos a horas"
   ]
  },
  {
   "cell_type": "markdown",
   "metadata": {},
   "source": [
    "* newline (nueva linea)"
   ]
  },
  {
   "cell_type": "markdown",
   "metadata": {},
   "source": [
    "* INDENT"
   ]
  },
  {
   "cell_type": "code",
   "execution_count": 9,
   "metadata": {
    "collapsed": false
   },
   "outputs": [],
   "source": [
    "def hello():\n",
    "    print (\"Hola mundo\")"
   ]
  },
  {
   "cell_type": "code",
   "execution_count": 10,
   "metadata": {
    "collapsed": false
   },
   "outputs": [
    {
     "name": "stdout",
     "output_type": "stream",
     "text": [
      "Hola mundo\n"
     ]
    }
   ],
   "source": [
    "hello()"
   ]
  },
  {
   "cell_type": "markdown",
   "metadata": {},
   "source": [
    "# Funcion DIS"
   ]
  },
  {
   "cell_type": "code",
   "execution_count": 11,
   "metadata": {
    "collapsed": true
   },
   "outputs": [],
   "source": [
    "import dis"
   ]
  },
  {
   "cell_type": "markdown",
   "metadata": {},
   "source": [
    "Funcion dis()\n",
    "La función dis.dis () imprime la representación desensamblada de una fuente de código Python\n"
   ]
  },
  {
   "cell_type": "code",
   "execution_count": 12,
   "metadata": {
    "collapsed": true
   },
   "outputs": [],
   "source": [
    "def myfunc(alist):\n",
    "    return len(alist)"
   ]
  },
  {
   "cell_type": "code",
   "execution_count": 13,
   "metadata": {
    "collapsed": false
   },
   "outputs": [
    {
     "data": {
      "text/plain": [
       "3"
      ]
     },
     "execution_count": 13,
     "metadata": {},
     "output_type": "execute_result"
    }
   ],
   "source": [
    "len([1,2,3])"
   ]
  },
  {
   "cell_type": "code",
   "execution_count": 14,
   "metadata": {
    "collapsed": true
   },
   "outputs": [],
   "source": [
    "import dis"
   ]
  },
  {
   "cell_type": "code",
   "execution_count": 15,
   "metadata": {
    "collapsed": false,
    "scrolled": true
   },
   "outputs": [
    {
     "name": "stdout",
     "output_type": "stream",
     "text": [
      "  2           0 LOAD_GLOBAL              0 (len)\n",
      "              2 LOAD_FAST                0 (alist)\n",
      "              4 CALL_FUNCTION            1\n",
      "              6 RETURN_VALUE\n"
     ]
    }
   ],
   "source": [
    "dis.dis(myfunc)"
   ]
  },
  {
   "cell_type": "code",
   "execution_count": 16,
   "metadata": {
    "collapsed": true
   },
   "outputs": [],
   "source": [
    "import parser"
   ]
  },
  {
   "cell_type": "code",
   "execution_count": 17,
   "metadata": {
    "collapsed": true
   },
   "outputs": [],
   "source": [
    "from pprint import pprint "
   ]
  },
  {
   "cell_type": "code",
   "execution_count": 18,
   "metadata": {
    "collapsed": true
   },
   "outputs": [],
   "source": [
    "code_str = \"\"\"def hello_world(): return 'hello world'\"\"\""
   ]
  },
  {
   "cell_type": "code",
   "execution_count": 19,
   "metadata": {
    "collapsed": true
   },
   "outputs": [],
   "source": [
    "st = parser.suite(code_str)"
   ]
  },
  {
   "cell_type": "code",
   "execution_count": 20,
   "metadata": {
    "collapsed": false
   },
   "outputs": [
    {
     "name": "stdout",
     "output_type": "stream",
     "text": [
      "[257,\n",
      " [269,\n",
      "  [295,\n",
      "   [263,\n",
      "    [1, 'def'],\n",
      "    [1, 'hello_world'],\n",
      "    [264, [7, '('], [8, ')']],\n",
      "    [11, ':'],\n",
      "    [304,\n",
      "     [270,\n",
      "      [271,\n",
      "       [278,\n",
      "        [281,\n",
      "         [1, 'return'],\n",
      "         [331,\n",
      "          [305,\n",
      "           [309,\n",
      "            [310,\n",
      "             [311,\n",
      "              [312,\n",
      "               [315,\n",
      "                [316,\n",
      "                 [317,\n",
      "                  [318,\n",
      "                   [319,\n",
      "                    [320,\n",
      "                     [321,\n",
      "                      [322, [323, [324, [3, \"'hello world'\"]]]]]]]]]]]]]]]]]]]],\n",
      "      [4, '']]]]]],\n",
      " [4, ''],\n",
      " [0, '']]\n"
     ]
    }
   ],
   "source": [
    "pprint(parser.st2list(st))"
   ]
  },
  {
   "cell_type": "markdown",
   "metadata": {
    "collapsed": true
   },
   "source": [
    "## Técnicas de optimización del código"
   ]
  },
  {
   "cell_type": "markdown",
   "metadata": {},
   "source": [
    "* Si es necesario el uso de intercambio de dos valores de variables a, b = B y no por medio de variables t =;a=b;b=t,"
   ]
  },
  {
   "cell_type": "code",
   "execution_count": 21,
   "metadata": {
    "collapsed": false
   },
   "outputs": [
    {
     "name": "stdout",
     "output_type": "stream",
     "text": [
      "1 2\n",
      "2 1\n"
     ]
    }
   ],
   "source": [
    "#Método 1\n",
    "a=1\n",
    "b=2\n",
    "print (a,b)\n",
    "t=a\n",
    "a=b\n",
    "b=t\n",
    "print (a,b)\n"
   ]
  },
  {
   "cell_type": "code",
   "execution_count": 22,
   "metadata": {
    "collapsed": false
   },
   "outputs": [
    {
     "name": "stdout",
     "output_type": "stream",
     "text": [
      "1 2\n",
      "2 1\n"
     ]
    }
   ],
   "source": [
    "#Métodos 2\n",
    "a=1\n",
    "b=2\n",
    "print (a,b)\n",
    "a,b=b,a\n",
    "print (a,b)"
   ]
  },
  {
   "cell_type": "code",
   "execution_count": 23,
   "metadata": {
    "collapsed": false
   },
   "outputs": [
    {
     "data": {
      "text/plain": [
       "0.10092229312408395"
      ]
     },
     "execution_count": 23,
     "metadata": {},
     "output_type": "execute_result"
    }
   ],
   "source": [
    "#Tiempo de ejecución\n",
    "from timeit import Timer \n",
    "Timer(\"t=a;a=b;b=t\",\"a=1;b=2\").timeit() \n"
   ]
  },
  {
   "cell_type": "code",
   "execution_count": 24,
   "metadata": {
    "collapsed": false
   },
   "outputs": [
    {
     "data": {
      "text/plain": [
       "0.11689185297073107"
      ]
     },
     "execution_count": 24,
     "metadata": {},
     "output_type": "execute_result"
    }
   ],
   "source": [
    "# Ejercicio 1. Calcule el tiempo de ejecución del segundo método \n",
    "#Tiempo de ejecución\n",
    "from timeit import Timer \n",
    "Timer(\"a,b=b,a\",\"a=1;b=2\").timeit() \n",
    "# Ejercicio 1. Calcule el tiempo de ejecución del segundo método "
   ]
  },
  {
   "cell_type": "code",
   "execution_count": 25,
   "metadata": {
    "collapsed": true
   },
   "outputs": [],
   "source": [
    "# Tiempo de ejecución de un fragmento de código"
   ]
  },
  {
   "cell_type": "code",
   "execution_count": 26,
   "metadata": {
    "collapsed": false
   },
   "outputs": [
    {
     "name": "stdout",
     "output_type": "stream",
     "text": [
      "Tiempo total de ejecución:\n",
      "13.258777856826782\n"
     ]
    }
   ],
   "source": [
    "from time import time \n",
    "t = time() \n",
    "list = ['a','b','is','python','jason','hello','hill','with','phone','test', 'dfdf','apple','pddf','ind','basic','none','baecr','var','bana','dd','wrd'] \n",
    "total=[] \n",
    "for i in range (1000000): \n",
    "    for w in list: \n",
    "        total.append(w) \n",
    "print (\"Tiempo total de ejecución:\")\n",
    "print (time()-t)"
   ]
  },
  {
   "cell_type": "code",
   "execution_count": 27,
   "metadata": {
    "collapsed": false
   },
   "outputs": [
    {
     "name": "stdout",
     "output_type": "stream",
     "text": [
      "[81, 36, 36, 64, 81]\n",
      "0.015627384185791016\n"
     ]
    }
   ],
   "source": [
    "\"\"\"\n",
    "Ejercicio 2. Dado una lista de los siguientes números: [1, 4, 9, 6, 0, 4, 2, 6, 8,1 , 2, 9, 4, 5]\n",
    "A) Cree una nueva lista con el valor al cuadrado de los elementos mayores a 5 usando listas por comprensión y sin utilizarla\n",
    "B) Determine el tiempo de ejecución de cada  fragmento de código\n",
    "\"\"\"\n",
    "\n",
    "import math\n",
    "a_list=[1, 4, 9, 6, 0, 4, 2, 6, 8,1 , 2, 9, 4, 5]\n",
    "t = time() \n",
    "lista=[a**2 for a in a_list if a>5]\n",
    "print (lista)\n",
    "sal=[81, 36, 36, 64, 81]\n",
    "print (time()-t)\n"
   ]
  },
  {
   "cell_type": "code",
   "execution_count": 28,
   "metadata": {
    "collapsed": false
   },
   "outputs": [
    {
     "name": "stdout",
     "output_type": "stream",
     "text": [
      "[81, 36, 36, 64, 81]\n",
      "0.015625953674316406\n"
     ]
    }
   ],
   "source": [
    "\n",
    "t = time()\n",
    "a_list = [1, 4, 9, 6, 0, 4, 2, 6, 8,1 , 2, 9, 4, 5]\n",
    "squared_ints=[]\n",
    "for e in a_list:    \n",
    "    if e>5:        \n",
    "        squared_ints.append(e**2)        \n",
    "print (squared_ints)\n",
    "print (time()-t)\n",
    "\n"
   ]
  },
  {
   "cell_type": "markdown",
   "metadata": {},
   "source": [
    "## Widgets y Expresiones regulares"
   ]
  },
  {
   "cell_type": "code",
   "execution_count": 29,
   "metadata": {
    "collapsed": false
   },
   "outputs": [
    {
     "name": "stdout",
     "output_type": "stream",
     "text": [
      "No es test\n"
     ]
    }
   ],
   "source": [
    "import re\n",
    "from ipywidgets import widgets\n",
    "from IPython.display import display\n",
    "text=widgets.Text()\n",
    "display(text)\n",
    "def handle_submit(sender):\n",
    "    if text.value==\"test\":\n",
    "        print(text.value)\n",
    "    else:\n",
    "            print(\"No es test\")\n",
    "\n",
    "text.on_submit(handle_submit)"
   ]
  },
  {
   "cell_type": "code",
   "execution_count": 30,
   "metadata": {
    "collapsed": false
   },
   "outputs": [
    {
     "data": {
      "text/plain": [
       "True"
      ]
     },
     "execution_count": 30,
     "metadata": {},
     "output_type": "execute_result"
    }
   ],
   "source": [
    "\n",
    "import re\n",
    "#Expresion regular para determinar si una cadena dada es una fecha\n",
    "fecha = re.compile(r'^(0?[1-9]|[12][0-9]|3[01])/(0?[1-9]|1[012])/((19|20)\\d\\d)$')\n",
    "#fecha.search(\"3/4/2018\")\n",
    "fecha.search(\"3/4/2018000\")==None\n"
   ]
  },
  {
   "cell_type": "code",
   "execution_count": 31,
   "metadata": {
    "collapsed": true
   },
   "outputs": [],
   "source": [
    "# Imprima “error” si una cadena introducida mediante el widget para cuadros de texto es incorrecta "
   ]
  },
  {
   "cell_type": "code",
   "execution_count": 32,
   "metadata": {
    "collapsed": false
   },
   "outputs": [
    {
     "name": "stdout",
     "output_type": "stream",
     "text": [
      "Error\n",
      "Error\n",
      "Error\n",
      "Error\n"
     ]
    }
   ],
   "source": [
    "text=widgets.Text()\n",
    "display(text)\n",
    "fecha = re.compile(r'^(0?[1-9]|[12][0-9]|3[01])/(0?[1-9]|1[012])/((19|20)\\d\\d)$')\n",
    "def handle_submit(sender):\n",
    "    if fecha.search(text.value)==None:\n",
    "        print(\"Error\")\n",
    "    else:\n",
    "            print(text.value)\n",
    "\n",
    "text.on_submit(handle_submit)\n",
    "\n"
   ]
  },
  {
   "cell_type": "code",
   "execution_count": 33,
   "metadata": {
    "collapsed": false
   },
   "outputs": [],
   "source": [
    "text=widgets.Text()\n",
    "display(text)\n",
    "url = re.compile(r\"^(https?:\\/\\/)?([\\da-z\\.-]+)\\.([a-z\\.]{2,6})([\\/\\w \\.-]*)*\\/?$\")\n",
    "def handle_submit(sender):\n",
    "    if url.search(text.value)==None:\n",
    "        print(\"Error\")\n",
    "    else:\n",
    "            print(text.value)\n",
    "\n",
    "text.on_submit(handle_submit)\n"
   ]
  },
  {
   "cell_type": "code",
   "execution_count": null,
   "metadata": {
    "collapsed": true
   },
   "outputs": [],
   "source": []
  }
 ],
 "metadata": {
  "kernelspec": {
   "display_name": "Python 3",
   "language": "python",
   "name": "python3"
  },
  "language_info": {
   "codemirror_mode": {
    "name": "ipython",
    "version": 3
   },
   "file_extension": ".py",
   "mimetype": "text/x-python",
   "name": "python",
   "nbconvert_exporter": "python",
   "pygments_lexer": "ipython3",
   "version": "3.6.0"
  },
  "widgets": {
   "state": {
    "4a9f7819ead244c59bcdcdfe407b4e9c": {
     "views": [
      {
       "cell_index": 48
      }
     ]
    },
    "abb4b731ac7c4a42be2fdd1bde158d31": {
     "views": [
      {
       "cell_index": 45
      }
     ]
    },
    "e6e9fa1b8a284cd38043447ce3a4f0cb": {
     "views": [
      {
       "cell_index": 49
      }
     ]
    }
   },
   "version": "1.2.0"
  }
 },
 "nbformat": 4,
 "nbformat_minor": 0
}
