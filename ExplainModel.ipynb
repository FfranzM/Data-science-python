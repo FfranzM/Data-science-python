{
  "nbformat": 4,
  "nbformat_minor": 0,
  "metadata": {
    "colab": {
      "name": "ExplainModel.ipynb",
      "provenance": [],
      "authorship_tag": "ABX9TyPC/CowRjMmPTNYtzehbAFz",
      "include_colab_link": true
    },
    "kernelspec": {
      "name": "python3",
      "display_name": "Python 3"
    }
  },
  "cells": [
    {
      "cell_type": "markdown",
      "metadata": {
        "id": "view-in-github",
        "colab_type": "text"
      },
      "source": [
        "<a href=\"https://colab.research.google.com/github/mleyvaz/Data-science-python/blob/master/ExplainModel.ipynb\" target=\"_parent\"><img src=\"https://colab.research.google.com/assets/colab-badge.svg\" alt=\"Open In Colab\"/></a>"
      ]
    },
    {
      "cell_type": "code",
      "metadata": {
        "colab": {
          "base_uri": "https://localhost:8080/"
        },
        "id": "VqezIXgnfiXd",
        "outputId": "1184d6e3-7129-4a54-9c29-e1c7f8ca97fd"
      },
      "source": [
        "!pip install explainerdashboard"
      ],
      "execution_count": 2,
      "outputs": [
        {
          "output_type": "stream",
          "text": [
            "Collecting explainerdashboard\n",
            "\u001b[?25l  Downloading https://files.pythonhosted.org/packages/22/8d/e00cfb4e9b019bd2aab3da543c52fd5524ab35887c2a1884e56c68bfe6df/explainerdashboard-0.3.1-py3-none-any.whl (269kB)\n",
            "\r\u001b[K     |█▏                              | 10kB 17.9MB/s eta 0:00:01\r\u001b[K     |██▍                             | 20kB 23.0MB/s eta 0:00:01\r\u001b[K     |███▋                            | 30kB 12.3MB/s eta 0:00:01\r\u001b[K     |████▉                           | 40kB 9.5MB/s eta 0:00:01\r\u001b[K     |██████                          | 51kB 8.0MB/s eta 0:00:01\r\u001b[K     |███████▎                        | 61kB 8.3MB/s eta 0:00:01\r\u001b[K     |████████▌                       | 71kB 8.0MB/s eta 0:00:01\r\u001b[K     |█████████▊                      | 81kB 8.4MB/s eta 0:00:01\r\u001b[K     |███████████                     | 92kB 8.0MB/s eta 0:00:01\r\u001b[K     |████████████▏                   | 102kB 8.3MB/s eta 0:00:01\r\u001b[K     |█████████████▍                  | 112kB 8.3MB/s eta 0:00:01\r\u001b[K     |██████████████▋                 | 122kB 8.3MB/s eta 0:00:01\r\u001b[K     |███████████████▉                | 133kB 8.3MB/s eta 0:00:01\r\u001b[K     |█████████████████               | 143kB 8.3MB/s eta 0:00:01\r\u001b[K     |██████████████████▏             | 153kB 8.3MB/s eta 0:00:01\r\u001b[K     |███████████████████▍            | 163kB 8.3MB/s eta 0:00:01\r\u001b[K     |████████████████████▋           | 174kB 8.3MB/s eta 0:00:01\r\u001b[K     |█████████████████████▉          | 184kB 8.3MB/s eta 0:00:01\r\u001b[K     |███████████████████████         | 194kB 8.3MB/s eta 0:00:01\r\u001b[K     |████████████████████████▎       | 204kB 8.3MB/s eta 0:00:01\r\u001b[K     |█████████████████████████▌      | 215kB 8.3MB/s eta 0:00:01\r\u001b[K     |██████████████████████████▊     | 225kB 8.3MB/s eta 0:00:01\r\u001b[K     |████████████████████████████    | 235kB 8.3MB/s eta 0:00:01\r\u001b[K     |█████████████████████████████▏  | 245kB 8.3MB/s eta 0:00:01\r\u001b[K     |██████████████████████████████▍ | 256kB 8.3MB/s eta 0:00:01\r\u001b[K     |███████████████████████████████▋| 266kB 8.3MB/s eta 0:00:01\r\u001b[K     |████████████████████████████████| 276kB 8.3MB/s \n",
            "\u001b[?25hRequirement already satisfied: click in /usr/local/lib/python3.6/dist-packages (from explainerdashboard) (7.1.2)\n",
            "Collecting dash-auth\n",
            "\u001b[?25l  Downloading https://files.pythonhosted.org/packages/79/0f/344b6cd09ae1b3210a534b4fd370d1e513a315d0703c9797f85aba9a4d08/dash_auth-1.4.1.tar.gz (470kB)\n",
            "\u001b[K     |████████████████████████████████| 471kB 11.5MB/s \n",
            "\u001b[?25hRequirement already satisfied: joblib in /usr/local/lib/python3.6/dist-packages (from explainerdashboard) (1.0.0)\n",
            "Collecting oyaml\n",
            "  Downloading https://files.pythonhosted.org/packages/37/aa/111610d8bf5b1bb7a295a048fc648cec346347a8b0be5881defd2d1b4a52/oyaml-1.0-py2.py3-none-any.whl\n",
            "Collecting waitress\n",
            "\u001b[?25l  Downloading https://files.pythonhosted.org/packages/26/d1/5209fb8c764497a592363c47054436a515b47b8c3e4970ddd7184f088857/waitress-1.4.4-py2.py3-none-any.whl (58kB)\n",
            "\u001b[K     |████████████████████████████████| 61kB 8.5MB/s \n",
            "\u001b[?25hRequirement already satisfied: pandas>=1.1 in /usr/local/lib/python3.6/dist-packages (from explainerdashboard) (1.1.5)\n",
            "Requirement already satisfied: scikit-learn in /usr/local/lib/python3.6/dist-packages (from explainerdashboard) (0.22.2.post1)\n",
            "Collecting jupyter-dash\n",
            "  Downloading https://files.pythonhosted.org/packages/46/21/d3893ad0b7a7061115938d6c38f5862522d45c4199fb7e8fde0765781e13/jupyter_dash-0.4.0-py3-none-any.whl\n",
            "Requirement already satisfied: numpy in /usr/local/lib/python3.6/dist-packages (from explainerdashboard) (1.19.5)\n",
            "Collecting shortuuid\n",
            "  Downloading https://files.pythonhosted.org/packages/25/a6/2ecc1daa6a304e7f1b216f0896b26156b78e7c38e1211e9b798b4716c53d/shortuuid-1.0.1-py3-none-any.whl\n",
            "Collecting dtreeviz>=1.1.4\n",
            "\u001b[?25l  Downloading https://files.pythonhosted.org/packages/66/46/3b9448e38808e12324fdd26ce89d1d180e71cccf6b3946dd0d0afe0cfde6/dtreeviz-1.1.4.tar.gz (50kB)\n",
            "\u001b[K     |████████████████████████████████| 51kB 7.8MB/s \n",
            "\u001b[?25hCollecting dash>=1.19\n",
            "\u001b[?25l  Downloading https://files.pythonhosted.org/packages/bc/b4/0bd5c94fdcb0eccb93c3c8068fe10f5607e542337d0b8f6e2d88078316a9/dash-1.19.0.tar.gz (75kB)\n",
            "\u001b[K     |████████████████████████████████| 81kB 8.8MB/s \n",
            "\u001b[?25hCollecting flask-simplelogin\n",
            "  Downloading https://files.pythonhosted.org/packages/14/f3/5aa36ed74abdd32ca5c6394e71244df962d795cb9f9c850238c889e5e4da/flask_simplelogin-0.0.7-py2.py3-none-any.whl\n",
            "Collecting dash-bootstrap-components\n",
            "\u001b[?25l  Downloading https://files.pythonhosted.org/packages/3a/1c/90161ed3491cef32b86dac8da297e01488bfcc84ae4acb6642076869c9ca/dash_bootstrap_components-0.11.3-py2.py3-none-any.whl (189kB)\n",
            "\u001b[K     |████████████████████████████████| 194kB 15.2MB/s \n",
            "\u001b[?25hCollecting shap>=0.37\n",
            "\u001b[?25l  Downloading https://files.pythonhosted.org/packages/44/20/54381999efe3000f70a7f68af79ba857cfa3f82278ab0e02e6ba1c06b002/shap-0.38.1.tar.gz (352kB)\n",
            "\u001b[K     |████████████████████████████████| 358kB 15.5MB/s \n",
            "\u001b[?25hCollecting chart_studio>=1.0.0\n",
            "\u001b[?25l  Downloading https://files.pythonhosted.org/packages/ca/ce/330794a6b6ca4b9182c38fc69dd2a9cbff60fd49421cb8648ee5fee352dc/chart_studio-1.1.0-py3-none-any.whl (64kB)\n",
            "\u001b[K     |████████████████████████████████| 71kB 10.1MB/s \n",
            "\u001b[?25hRequirement already satisfied: Flask>=1.0.2 in /usr/local/lib/python3.6/dist-packages (from dash-auth->explainerdashboard) (1.1.2)\n",
            "Collecting flask-compress\n",
            "  Downloading https://files.pythonhosted.org/packages/da/4d/20eccc60b10f8765f15f42db35e1a0d010bc9a7562760410f7d9cef87d77/Flask-Compress-1.9.0.tar.gz\n",
            "Collecting flask-seasurf\n",
            "  Downloading https://files.pythonhosted.org/packages/0a/4d/8fa013cf2788cc6d1a8a0ed0f820210c6bcdeab1ddbbc2249ac651c73f61/Flask_SeaSurf-0.3.0-py3-none-any.whl\n",
            "Requirement already satisfied: requests in /usr/local/lib/python3.6/dist-packages (from dash-auth->explainerdashboard) (2.23.0)\n",
            "Requirement already satisfied: retrying in /usr/local/lib/python3.6/dist-packages (from dash-auth->explainerdashboard) (1.3.3)\n",
            "Requirement already satisfied: itsdangerous>=1.1.0 in /usr/local/lib/python3.6/dist-packages (from dash-auth->explainerdashboard) (1.1.0)\n",
            "Collecting ua_parser\n",
            "  Downloading https://files.pythonhosted.org/packages/9d/22/4d16b08db329fd440eed366d35e4dd7195c9babb4ecac5218f28081522a2/ua_parser-0.10.0-py2.py3-none-any.whl\n",
            "Requirement already satisfied: pyyaml in /usr/local/lib/python3.6/dist-packages (from oyaml->explainerdashboard) (3.13)\n",
            "Requirement already satisfied: python-dateutil>=2.7.3 in /usr/local/lib/python3.6/dist-packages (from pandas>=1.1->explainerdashboard) (2.8.1)\n",
            "Requirement already satisfied: pytz>=2017.2 in /usr/local/lib/python3.6/dist-packages (from pandas>=1.1->explainerdashboard) (2018.9)\n",
            "Requirement already satisfied: scipy>=0.17.0 in /usr/local/lib/python3.6/dist-packages (from scikit-learn->explainerdashboard) (1.4.1)\n",
            "Requirement already satisfied: ipykernel in /usr/local/lib/python3.6/dist-packages (from jupyter-dash->explainerdashboard) (4.10.1)\n",
            "Collecting ansi2html\n",
            "  Downloading https://files.pythonhosted.org/packages/c6/85/3a46be84afbb16b392a138cd396117f438c7b2e91d8dc327621d1ae1b5dc/ansi2html-1.6.0-py3-none-any.whl\n",
            "Requirement already satisfied: ipython in /usr/local/lib/python3.6/dist-packages (from jupyter-dash->explainerdashboard) (5.5.0)\n",
            "Requirement already satisfied: graphviz>=0.9 in /usr/local/lib/python3.6/dist-packages (from dtreeviz>=1.1.4->explainerdashboard) (0.10.1)\n",
            "Requirement already satisfied: matplotlib in /usr/local/lib/python3.6/dist-packages (from dtreeviz>=1.1.4->explainerdashboard) (3.2.2)\n",
            "Collecting colour\n",
            "  Downloading https://files.pythonhosted.org/packages/74/46/e81907704ab203206769dee1385dc77e1407576ff8f50a0681d0a6b541be/colour-0.1.5-py2.py3-none-any.whl\n",
            "Requirement already satisfied: pytest in /usr/local/lib/python3.6/dist-packages (from dtreeviz>=1.1.4->explainerdashboard) (3.6.4)\n",
            "Requirement already satisfied: plotly in /usr/local/lib/python3.6/dist-packages (from dash>=1.19->explainerdashboard) (4.4.1)\n",
            "Collecting dash_renderer==1.9.0\n",
            "\u001b[?25l  Downloading https://files.pythonhosted.org/packages/be/a6/dd1edfe7b1102274e93991736c35b2a5e1a63b524c8d9f41bbb30f17340b/dash_renderer-1.9.0.tar.gz (1.0MB)\n",
            "\u001b[K     |████████████████████████████████| 1.0MB 23.3MB/s \n",
            "\u001b[?25hCollecting dash-core-components==1.15.0\n",
            "\u001b[?25l  Downloading https://files.pythonhosted.org/packages/22/78/ae0829e673f3df77403bcdb35073b1ed2f156080f5bcac6f21c1047d73fe/dash_core_components-1.15.0.tar.gz (3.5MB)\n",
            "\u001b[K     |████████████████████████████████| 3.5MB 42.8MB/s \n",
            "\u001b[?25hCollecting dash-html-components==1.1.2\n",
            "\u001b[?25l  Downloading https://files.pythonhosted.org/packages/3f/25/56de2708128fe375eecc2e18e0ccdc3a853494966e36334ec8a30be99b94/dash_html_components-1.1.2.tar.gz (188kB)\n",
            "\u001b[K     |████████████████████████████████| 194kB 42.3MB/s \n",
            "\u001b[?25hCollecting dash-table==4.11.2\n",
            "\u001b[?25l  Downloading https://files.pythonhosted.org/packages/3d/ae/96cb64b58d76391604b57f8c747f9a19ab2122e7ba214e2e0cf35484962b/dash_table-4.11.2.tar.gz (1.8MB)\n",
            "\u001b[K     |████████████████████████████████| 1.8MB 51.8MB/s \n",
            "\u001b[?25hRequirement already satisfied: future in /usr/local/lib/python3.6/dist-packages (from dash>=1.19->explainerdashboard) (0.16.0)\n",
            "Collecting flask_wtf\n",
            "  Downloading https://files.pythonhosted.org/packages/36/a9/8c01171066bd7a524ee005d81bb4a8aa446ab178043a1ad6cb5dc8f0bd83/Flask_WTF-0.14.3-py2.py3-none-any.whl\n",
            "Requirement already satisfied: tqdm>4.25.0 in /usr/local/lib/python3.6/dist-packages (from shap>=0.37->explainerdashboard) (4.41.1)\n",
            "Collecting slicer==0.0.7\n",
            "  Downloading https://files.pythonhosted.org/packages/78/c2/b3f55dfdb8af9812fdb9baf70cacf3b9e82e505b2bd4324d588888b81202/slicer-0.0.7-py3-none-any.whl\n",
            "Requirement already satisfied: numba in /usr/local/lib/python3.6/dist-packages (from shap>=0.37->explainerdashboard) (0.51.2)\n",
            "Requirement already satisfied: cloudpickle in /usr/local/lib/python3.6/dist-packages (from shap>=0.37->explainerdashboard) (1.3.0)\n",
            "Requirement already satisfied: six in /usr/local/lib/python3.6/dist-packages (from chart_studio>=1.0.0->dash-auth->explainerdashboard) (1.15.0)\n",
            "Requirement already satisfied: Jinja2>=2.10.1 in /usr/local/lib/python3.6/dist-packages (from Flask>=1.0.2->dash-auth->explainerdashboard) (2.11.3)\n",
            "Requirement already satisfied: Werkzeug>=0.15 in /usr/local/lib/python3.6/dist-packages (from Flask>=1.0.2->dash-auth->explainerdashboard) (1.0.1)\n",
            "Collecting brotli\n",
            "\u001b[?25l  Downloading https://files.pythonhosted.org/packages/b4/d3/7c98f05b7b9103e2f3a112ba42f269c798155b3e5404fb80bb8f823aaebe/Brotli-1.0.9-cp36-cp36m-manylinux1_x86_64.whl (357kB)\n",
            "\u001b[K     |████████████████████████████████| 358kB 44.4MB/s \n",
            "\u001b[?25hRequirement already satisfied: certifi>=2017.4.17 in /usr/local/lib/python3.6/dist-packages (from requests->dash-auth->explainerdashboard) (2020.12.5)\n",
            "Requirement already satisfied: urllib3!=1.25.0,!=1.25.1,<1.26,>=1.21.1 in /usr/local/lib/python3.6/dist-packages (from requests->dash-auth->explainerdashboard) (1.24.3)\n",
            "Requirement already satisfied: chardet<4,>=3.0.2 in /usr/local/lib/python3.6/dist-packages (from requests->dash-auth->explainerdashboard) (3.0.4)\n",
            "Requirement already satisfied: idna<3,>=2.5 in /usr/local/lib/python3.6/dist-packages (from requests->dash-auth->explainerdashboard) (2.10)\n",
            "Requirement already satisfied: tornado>=4.0 in /usr/local/lib/python3.6/dist-packages (from ipykernel->jupyter-dash->explainerdashboard) (5.1.1)\n",
            "Requirement already satisfied: traitlets>=4.1.0 in /usr/local/lib/python3.6/dist-packages (from ipykernel->jupyter-dash->explainerdashboard) (4.3.3)\n",
            "Requirement already satisfied: jupyter-client in /usr/local/lib/python3.6/dist-packages (from ipykernel->jupyter-dash->explainerdashboard) (5.3.5)\n",
            "Requirement already satisfied: pexpect; sys_platform != \"win32\" in /usr/local/lib/python3.6/dist-packages (from ipython->jupyter-dash->explainerdashboard) (4.8.0)\n",
            "Requirement already satisfied: pickleshare in /usr/local/lib/python3.6/dist-packages (from ipython->jupyter-dash->explainerdashboard) (0.7.5)\n",
            "Requirement already satisfied: setuptools>=18.5 in /usr/local/lib/python3.6/dist-packages (from ipython->jupyter-dash->explainerdashboard) (53.0.0)\n",
            "Requirement already satisfied: pygments in /usr/local/lib/python3.6/dist-packages (from ipython->jupyter-dash->explainerdashboard) (2.6.1)\n",
            "Requirement already satisfied: simplegeneric>0.8 in /usr/local/lib/python3.6/dist-packages (from ipython->jupyter-dash->explainerdashboard) (0.8.1)\n",
            "Requirement already satisfied: prompt-toolkit<2.0.0,>=1.0.4 in /usr/local/lib/python3.6/dist-packages (from ipython->jupyter-dash->explainerdashboard) (1.0.18)\n",
            "Requirement already satisfied: decorator in /usr/local/lib/python3.6/dist-packages (from ipython->jupyter-dash->explainerdashboard) (4.4.2)\n",
            "Requirement already satisfied: kiwisolver>=1.0.1 in /usr/local/lib/python3.6/dist-packages (from matplotlib->dtreeviz>=1.1.4->explainerdashboard) (1.3.1)\n",
            "Requirement already satisfied: cycler>=0.10 in /usr/local/lib/python3.6/dist-packages (from matplotlib->dtreeviz>=1.1.4->explainerdashboard) (0.10.0)\n",
            "Requirement already satisfied: pyparsing!=2.0.4,!=2.1.2,!=2.1.6,>=2.0.1 in /usr/local/lib/python3.6/dist-packages (from matplotlib->dtreeviz>=1.1.4->explainerdashboard) (2.4.7)\n",
            "Requirement already satisfied: pluggy<0.8,>=0.5 in /usr/local/lib/python3.6/dist-packages (from pytest->dtreeviz>=1.1.4->explainerdashboard) (0.7.1)\n",
            "Requirement already satisfied: atomicwrites>=1.0 in /usr/local/lib/python3.6/dist-packages (from pytest->dtreeviz>=1.1.4->explainerdashboard) (1.4.0)\n",
            "Requirement already satisfied: more-itertools>=4.0.0 in /usr/local/lib/python3.6/dist-packages (from pytest->dtreeviz>=1.1.4->explainerdashboard) (8.7.0)\n",
            "Requirement already satisfied: attrs>=17.4.0 in /usr/local/lib/python3.6/dist-packages (from pytest->dtreeviz>=1.1.4->explainerdashboard) (20.3.0)\n",
            "Requirement already satisfied: py>=1.5.0 in /usr/local/lib/python3.6/dist-packages (from pytest->dtreeviz>=1.1.4->explainerdashboard) (1.10.0)\n",
            "Collecting WTForms\n",
            "\u001b[?25l  Downloading https://files.pythonhosted.org/packages/e0/31/614fc7dc7d76005b0acb8c0c8920d962b83d7422b4ba912886dfb63f86ff/WTForms-2.3.3-py2.py3-none-any.whl (169kB)\n",
            "\u001b[K     |████████████████████████████████| 174kB 48.7MB/s \n",
            "\u001b[?25hRequirement already satisfied: llvmlite<0.35,>=0.34.0.dev0 in /usr/local/lib/python3.6/dist-packages (from numba->shap>=0.37->explainerdashboard) (0.34.0)\n",
            "Requirement already satisfied: MarkupSafe>=0.23 in /usr/local/lib/python3.6/dist-packages (from Jinja2>=2.10.1->Flask>=1.0.2->dash-auth->explainerdashboard) (1.1.1)\n",
            "Requirement already satisfied: ipython-genutils in /usr/local/lib/python3.6/dist-packages (from traitlets>=4.1.0->ipykernel->jupyter-dash->explainerdashboard) (0.2.0)\n",
            "Requirement already satisfied: pyzmq>=13 in /usr/local/lib/python3.6/dist-packages (from jupyter-client->ipykernel->jupyter-dash->explainerdashboard) (22.0.2)\n",
            "Requirement already satisfied: jupyter-core>=4.6.0 in /usr/local/lib/python3.6/dist-packages (from jupyter-client->ipykernel->jupyter-dash->explainerdashboard) (4.7.1)\n",
            "Requirement already satisfied: ptyprocess>=0.5 in /usr/local/lib/python3.6/dist-packages (from pexpect; sys_platform != \"win32\"->ipython->jupyter-dash->explainerdashboard) (0.7.0)\n",
            "Requirement already satisfied: wcwidth in /usr/local/lib/python3.6/dist-packages (from prompt-toolkit<2.0.0,>=1.0.4->ipython->jupyter-dash->explainerdashboard) (0.2.5)\n",
            "Building wheels for collected packages: dash-auth, dtreeviz, dash, shap, flask-compress, dash-renderer, dash-core-components, dash-html-components, dash-table\n",
            "  Building wheel for dash-auth (setup.py) ... \u001b[?25l\u001b[?25hdone\n",
            "  Created wheel for dash-auth: filename=dash_auth-1.4.1-cp36-none-any.whl size=476152 sha256=6fe2a24cf63fbd54bac267c241c11a174073e192dc53f7bb950c65d8a1c35ad0\n",
            "  Stored in directory: /root/.cache/pip/wheels/9b/6d/64/a95a7e2050ba581161fcf27f862806368bbc34b998e6bc2d37\n",
            "  Building wheel for dtreeviz (setup.py) ... \u001b[?25l\u001b[?25hdone\n",
            "  Created wheel for dtreeviz: filename=dtreeviz-1.1.4-cp36-none-any.whl size=53568 sha256=ca7f5531b47460cf341ac6ba18847b586d7b0829d3d92c522055d21f7bb7ea47\n",
            "  Stored in directory: /root/.cache/pip/wheels/6a/1b/01/8d804e4d3cf01cf38097a756b02c851a032c09e3a25feb7c50\n",
            "  Building wheel for dash (setup.py) ... \u001b[?25l\u001b[?25hdone\n",
            "  Created wheel for dash: filename=dash-1.19.0-cp36-none-any.whl size=84013 sha256=d2478b79c20a5ebb1972ec843d6a73ee6d7afc603546badd1e580f973f96c479\n",
            "  Stored in directory: /root/.cache/pip/wheels/f7/50/a7/a230ff7f503b10120bff18c2524a375bb85a61ce6b519c8a77\n",
            "  Building wheel for shap (setup.py) ... \u001b[?25l\u001b[?25hdone\n",
            "  Created wheel for shap: filename=shap-0.38.1-cp36-cp36m-linux_x86_64.whl size=489401 sha256=f13ebef0e3a009c7ae9875efcd6cbef16204aa5f933633047f5f83b0c7e45870\n",
            "  Stored in directory: /root/.cache/pip/wheels/a8/fb/e4/88012be41842b9be62ae18d82d1b1e880daf8539d1fef1fa00\n",
            "  Building wheel for flask-compress (setup.py) ... \u001b[?25l\u001b[?25hdone\n",
            "  Created wheel for flask-compress: filename=Flask_Compress-1.9.0-cp36-none-any.whl size=7259 sha256=068a631eae98c3a437caf23b7f2303d63d1ff6271a6e0ffa5bfad539da71e8dd\n",
            "  Stored in directory: /root/.cache/pip/wheels/0d/56/7d/e0c50541e5421b8291d958afb098c23818989e29d91a1edac5\n",
            "  Building wheel for dash-renderer (setup.py) ... \u001b[?25l\u001b[?25hdone\n",
            "  Created wheel for dash-renderer: filename=dash_renderer-1.9.0-cp36-none-any.whl size=1014869 sha256=a6cf72d774424e34d18529cd28810899126155a811c3e562c6fa3d8aec971a25\n",
            "  Stored in directory: /root/.cache/pip/wheels/46/a0/ec/2be2e8fc750e623d76f9690c397cc5ab28b33d0a16a49e10c5\n",
            "  Building wheel for dash-core-components (setup.py) ... \u001b[?25l\u001b[?25hdone\n",
            "  Created wheel for dash-core-components: filename=dash_core_components-1.15.0-cp36-none-any.whl size=3527014 sha256=a810bce1477dea20dc34502dedeeae2e66222a55c69d013ce920490143f18d9f\n",
            "  Stored in directory: /root/.cache/pip/wheels/53/3d/be/d628d6f66eedf9597f0c89c8ff43a5020ad1c25152c77d8e9f\n",
            "  Building wheel for dash-html-components (setup.py) ... \u001b[?25l\u001b[?25hdone\n",
            "  Created wheel for dash-html-components: filename=dash_html_components-1.1.2-cp36-none-any.whl size=427830 sha256=d2e6a51f485ac883f567e172cf63695b16205ac4c41a81d0699693164281c346\n",
            "  Stored in directory: /root/.cache/pip/wheels/44/95/70/0dc41f9b4e31b8a7ea22193aad5647b2c85cfab37bf13c0242\n",
            "  Building wheel for dash-table (setup.py) ... \u001b[?25l\u001b[?25hdone\n",
            "  Created wheel for dash-table: filename=dash_table-4.11.2-cp36-none-any.whl size=1839870 sha256=ae7d19443c3df984726690f777bba7aff2af9b59b130fc7cf4aec699c221ebe9\n",
            "  Stored in directory: /root/.cache/pip/wheels/72/d9/f6/2ad62ac0037f1f0c0d3d10948a596b594a069057df0656ac3f\n",
            "Successfully built dash-auth dtreeviz dash shap flask-compress dash-renderer dash-core-components dash-html-components dash-table\n",
            "Installing collected packages: chart-studio, brotli, flask-compress, flask-seasurf, dash-renderer, dash-core-components, dash-html-components, dash-table, dash, ua-parser, dash-auth, oyaml, waitress, ansi2html, jupyter-dash, shortuuid, colour, dtreeviz, WTForms, flask-wtf, flask-simplelogin, dash-bootstrap-components, slicer, shap, explainerdashboard\n",
            "Successfully installed WTForms-2.3.3 ansi2html-1.6.0 brotli-1.0.9 chart-studio-1.1.0 colour-0.1.5 dash-1.19.0 dash-auth-1.4.1 dash-bootstrap-components-0.11.3 dash-core-components-1.15.0 dash-html-components-1.1.2 dash-renderer-1.9.0 dash-table-4.11.2 dtreeviz-1.1.4 explainerdashboard-0.3.1 flask-compress-1.9.0 flask-seasurf-0.3.0 flask-simplelogin-0.0.7 flask-wtf-0.14.3 jupyter-dash-0.4.0 oyaml-1.0 shap-0.38.1 shortuuid-1.0.1 slicer-0.0.7 ua-parser-0.10.0 waitress-1.4.4\n"
          ],
          "name": "stdout"
        }
      ]
    },
    {
      "cell_type": "code",
      "metadata": {
        "colab": {
          "base_uri": "https://localhost:8080/",
          "height": 462
        },
        "id": "75yyUE2Bfb1q",
        "outputId": "07f58fbe-1bb8-41b3-ef57-55abfb33a91c"
      },
      "source": [
        "from sklearn.ensemble import RandomForestClassifier\r\n",
        "from explainerdashboard import ClassifierExplainer, ExplainerDashboard\r\n",
        "from explainerdashboard.datasets import titanic_survive, titanic_names\r\n",
        "\r\n",
        "feature_descriptions = {\r\n",
        "    \"Sex\": \"Gender of passenger\",\r\n",
        "    \"Gender\": \"Gender of passenger\",\r\n",
        "    \"Deck\": \"The deck the passenger had their cabin on\",\r\n",
        "    \"PassengerClass\": \"The class of the ticket: 1st, 2nd or 3rd class\",\r\n",
        "    \"Fare\": \"The amount of money people paid\", \r\n",
        "    \"Embarked\": \"the port where the passenger boarded the Titanic. Either Southampton, Cherbourg or Queenstown\",\r\n",
        "    \"Age\": \"Age of the passenger\",\r\n",
        "    \"No_of_siblings_plus_spouses_on_board\": \"The sum of the number of siblings plus the number of spouses on board\",\r\n",
        "    \"No_of_parents_plus_children_on_board\" : \"The sum of the number of parents plus the number of children on board\",\r\n",
        "}\r\n",
        "\r\n",
        "X_train, y_train, X_test, y_test = titanic_survive()\r\n",
        "train_names, test_names = titanic_names()\r\n",
        "model = RandomForestClassifier(n_estimators=50, max_depth=5)\r\n",
        "model.fit(X_train, y_train)\r\n",
        "\r\n",
        "explainer = ClassifierExplainer(model, X_test, y_test, \r\n",
        "  cats=['Deck', 'Embarked',\r\n",
        "  {'Gender': ['Sex_male', 'Sex_female', 'Sex_nan']}],\r\n",
        "  descriptions=feature_descriptions, # defaults to None\r\n",
        "  labels=['Not survived', 'Survived'], # defaults to ['0', '1', etc]\r\n",
        "  idxs = test_names, # defaults to X.index\r\n",
        "  index_name = \"Passenger\", # defaults to X.index.name\r\n",
        "  target = \"Survival\", # defaults to y.name\r\n",
        "  )\r\n",
        "\r\n",
        "db = ExplainerDashboard(explainer, \r\n",
        "  title=\"Titanic Explainer\", # defaults to \"Model Explainer\"\r\n",
        "  whatif=False, # you can switch off tabs with bools\r\n",
        "                        )\r\n",
        "db.run(port=8050)"
      ],
      "execution_count": 3,
      "outputs": [
        {
          "output_type": "stream",
          "text": [
            "Note: shap=='guess' so guessing for RandomForestClassifier shap='tree'...\n",
            "Detected RandomForestClassifier model: Changing class type to RandomForestClassifierExplainer...\n",
            "Note: model_output=='probability', so assuming that raw shap output of RandomForestClassifier is in probability space...\n",
            "Generating self.shap_explainer = shap.TreeExplainer(model)\n",
            "Building ExplainerDashboard..\n",
            "Detected google colab environment, setting mode='external'\n",
            "Warning: calculating shap interaction values can be slow! Pass shap_interaction=False to remove interactions tab.\n",
            "Generating layout...\n",
            "Calculating shap values...\n",
            "Calculating dependencies...\n",
            "Calculating permutation importances (if slow, try setting n_jobs parameter)...\n",
            "Calculating prediction probabilities...\n",
            "Calculating pred_percentiles...\n",
            "Calculating liftcurve_dfs...\n",
            "Calculating predictions...\n",
            "Calculating roc auc curves...\n",
            "Calculating confusion matrices...\n",
            "Calculating pr auc curves...\n",
            "Calculating metrics...\n",
            "Calculating shap interaction values... (this may take a while)\n",
            "Reminder: TreeShap computational complexity is O(TLD^2), where T is the number of trees, L is the maximum number of leaves in any tree and D the maximal depth of any tree. So reducing these will speed up the calculation.\n",
            "Reminder: you can store the explainer (including calculated dependencies) with explainer.dump('explainer.joblib') and reload with e.g. ClassifierExplainer.from_file('explainer.joblib')\n",
            "Registering callbacks...\n",
            "Dash app running on:\n"
          ],
          "name": "stdout"
        },
        {
          "output_type": "display_data",
          "data": {
            "application/javascript": [
              "(async (port, path, text, element) => {\n",
              "    if (!google.colab.kernel.accessAllowed) {\n",
              "      return;\n",
              "    }\n",
              "    element.appendChild(document.createTextNode(''));\n",
              "    const url = await google.colab.kernel.proxyPort(port);\n",
              "    const anchor = document.createElement('a');\n",
              "    anchor.href = url + path;\n",
              "    anchor.target = '_blank';\n",
              "    anchor.setAttribute('data-href', url + path);\n",
              "    anchor.textContent = text;\n",
              "    element.appendChild(anchor);\n",
              "  })(8050, \"/\", \"http://127.0.0.1:8050/\", window.element)"
            ],
            "text/plain": [
              "<IPython.core.display.Javascript object>"
            ]
          },
          "metadata": {
            "tags": []
          }
        }
      ]
    },
    {
      "cell_type": "code",
      "metadata": {
        "colab": {
          "base_uri": "https://localhost:8080/",
          "height": 821
        },
        "id": "bihzZK7vgPoh",
        "outputId": "870015eb-6507-405e-e21e-196bc98fe96e"
      },
      "source": [
        "from explainerdashboard import InlineExplainer\r\n",
        "\r\n",
        "InlineExplainer(explainer).tab.whatif()"
      ],
      "execution_count": 6,
      "outputs": [
        {
          "output_type": "display_data",
          "data": {
            "application/javascript": [
              "(async (port, path, width, height, cache, element) => {\n",
              "    if (!google.colab.kernel.accessAllowed && !cache) {\n",
              "      return;\n",
              "    }\n",
              "    element.appendChild(document.createTextNode(''));\n",
              "    const url = await google.colab.kernel.proxyPort(port, {cache});\n",
              "    const iframe = document.createElement('iframe');\n",
              "    iframe.src = url + path;\n",
              "    iframe.height = height;\n",
              "    iframe.width = width;\n",
              "    iframe.style.border = 0;\n",
              "    element.appendChild(iframe);\n",
              "  })(8050, \"/\", 1000, 800, false, window.element)"
            ],
            "text/plain": [
              "<IPython.core.display.Javascript object>"
            ]
          },
          "metadata": {
            "tags": []
          }
        }
      ]
    }
  ]
}